{
 "cells": [
  {
   "cell_type": "markdown",
   "id": "1262c2c5-de7f-44f8-befb-b9e410dccfd2",
   "metadata": {},
   "source": [
    "# Kepler test"
   ]
  },
  {
   "cell_type": "code",
   "execution_count": 13,
   "id": "da9c1ff4-7da4-4a13-a442-3bae47671573",
   "metadata": {},
   "outputs": [],
   "source": [
    "from keplergl import KeplerGl\n",
    "from IPython.display import display\n",
    "\n",
    "import geopandas as gpd\n",
    "import pandas as pd"
   ]
  },
  {
   "cell_type": "code",
   "execution_count": 14,
   "id": "74fc169d-e4b3-4541-bdd2-beca74e85f6e",
   "metadata": {},
   "outputs": [],
   "source": [
    "# Example dataset representing population density in Berlin neighborhoods\n",
    "data = {\n",
    "    'neighborhood': ['Mitte', 'Prenzlauer Berg', 'Kreuzberg', 'Charlottenburg', 'Friedrichshain'],\n",
    "    'latitude': [52.5200, 52.5344, 52.4982, 52.5166, 52.5159],\n",
    "    'longitude': [13.4050, 13.4206, 13.3887, 13.3041, 13.4540],\n",
    "    'population_density': [12000, 9000, 15000, 8000, 11000]\n",
    "}\n",
    "\n",
    "# Create a DataFrame from the data\n",
    "population_df = pd.DataFrame(data)"
   ]
  },
  {
   "cell_type": "code",
   "execution_count": 15,
   "id": "994dd823-7f8e-47cf-adfa-1b4537517cd1",
   "metadata": {},
   "outputs": [],
   "source": [
    "# Load GeoJSON data\n",
    "geojson_data = gpd.read_file('./berlin_districts.geojson')"
   ]
  },
  {
   "cell_type": "code",
   "execution_count": 16,
   "id": "b177b7c9-3d3d-4dd5-b878-b23d94927589",
   "metadata": {},
   "outputs": [],
   "source": [
    "berlin_stations = gpd.read_file('./berlin_stations.geojson')"
   ]
  },
  {
   "cell_type": "code",
   "execution_count": 18,
   "id": "0673cf27-2f95-4edf-b681-77f2c6c54321",
   "metadata": {},
   "outputs": [
    {
     "data": {
      "text/plain": [
       "Index(['id', '@id', '@relations', 'TMC:cid_58:tabcd_1:Class',\n",
       "       'TMC:cid_58:tabcd_1:LCLversion', 'TMC:cid_58:tabcd_1:LocationCode',\n",
       "       'admin_level', 'boundary', 'contact:phone', 'contact:website',\n",
       "       'de:regionalschluessel', 'description', 'geographical_region', 'name',\n",
       "       'name:de', 'name:he', 'name:prefix', 'name:ru', 'name:uk', 'name:zh',\n",
       "       'name:zh-Hans', 'name:zh-Hant', 'place', 'population',\n",
       "       'population:date', 'postal_addr:city', 'postal_addr:country',\n",
       "       'postal_addr:housename', 'postal_addr:housenumber', 'postal_addr:note',\n",
       "       'postal_addr:postcode', 'postal_addr:street', 'ref', 'source',\n",
       "       'source:population', 'type', 'website', 'wikidata', 'wikipedia',\n",
       "       'geometry'],\n",
       "      dtype='object')"
      ]
     },
     "execution_count": 18,
     "metadata": {},
     "output_type": "execute_result"
    }
   ],
   "source": [
    "geojson_data.columns"
   ]
  },
  {
   "cell_type": "code",
   "execution_count": 19,
   "id": "3affd9a9-1cf2-44ff-8b88-2f1b7f01e16a",
   "metadata": {},
   "outputs": [
    {
     "name": "stdout",
     "output_type": "stream",
     "text": [
      "User Guide: https://docs.kepler.gl/docs/keplergl-jupyter\n"
     ]
    }
   ],
   "source": [
    "# Create a Kepler.gl map\n",
    "map_1 = KeplerGl()\n",
    "\n",
    "# Add data to the map\n",
    "map_1.add_data(data=geojson_data, name='population_density')\n",
    "\n",
    "# You can replace 'my_data' with a meaningful name for your dataset"
   ]
  },
  {
   "cell_type": "code",
   "execution_count": 20,
   "id": "5c1686c4-d717-4e09-a7be-5809ee0f1765",
   "metadata": {},
   "outputs": [],
   "source": [
    "# Configure the map layers\n",
    "map_1.config = {\n",
    "    'version': 'v1',\n",
    "    'config': {\n",
    "        'mapState': {\n",
    "            'latitude': 52.5200,\n",
    "            'longitude': 13.4050,\n",
    "            'zoom': 11\n",
    "        }\n",
    "    }\n",
    "}"
   ]
  },
  {
   "cell_type": "code",
   "execution_count": 21,
   "id": "b3312c6e-4030-45ee-8a9d-da4c159a60ba",
   "metadata": {},
   "outputs": [
    {
     "data": {
      "application/vnd.jupyter.widget-view+json": {
       "model_id": "ec1cf3ddf08343c9a73c58cc9b58a153",
       "version_major": 2,
       "version_minor": 0
      },
      "text/plain": [
       "KeplerGl(config={'version': 'v1', 'config': {'mapState': {'latitude': 52.52, 'longitude': 13.405, 'zoom': 11}}…"
      ]
     },
     "metadata": {},
     "output_type": "display_data"
    }
   ],
   "source": [
    "# Show the map\n",
    "display(map_1)"
   ]
  },
  {
   "cell_type": "code",
   "execution_count": 22,
   "id": "e42c638b-747a-4879-b9e4-e785d213e851",
   "metadata": {},
   "outputs": [
    {
     "name": "stdout",
     "output_type": "stream",
     "text": [
      "Map saved to keplergl_map.html!\n"
     ]
    }
   ],
   "source": [
    "map_1.save_to_html(file_name='keplergl_map.html', config=dict(mapState=map_1.config['config']['mapState']))"
   ]
  },
  {
   "cell_type": "code",
   "execution_count": null,
   "id": "8f5cbee9-4aaa-43ea-ae63-b6bd30caf335",
   "metadata": {},
   "outputs": [],
   "source": []
  }
 ],
 "metadata": {
  "kernelspec": {
   "display_name": "Python 3 (ipykernel)",
   "language": "python",
   "name": "python3"
  },
  "language_info": {
   "codemirror_mode": {
    "name": "ipython",
    "version": 3
   },
   "file_extension": ".py",
   "mimetype": "text/x-python",
   "name": "python",
   "nbconvert_exporter": "python",
   "pygments_lexer": "ipython3",
   "version": "3.11.5"
  }
 },
 "nbformat": 4,
 "nbformat_minor": 5
}
