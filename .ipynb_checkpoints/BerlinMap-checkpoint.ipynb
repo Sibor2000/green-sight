{
 "cells": [
  {
   "cell_type": "markdown",
   "id": "1262c2c5-de7f-44f8-befb-b9e410dccfd2",
   "metadata": {},
   "source": [
    "# Kepler test"
   ]
  },
  {
   "cell_type": "code",
   "execution_count": 20,
   "id": "da9c1ff4-7da4-4a13-a442-3bae47671573",
   "metadata": {},
   "outputs": [],
   "source": [
    "from keplergl import KeplerGl\n",
    "from IPython.display import display\n",
    "\n",
    "import geopandas as gpd\n",
    "import pandas as pd"
   ]
  },
  {
   "cell_type": "code",
   "execution_count": 8,
   "id": "74fc169d-e4b3-4541-bdd2-beca74e85f6e",
   "metadata": {},
   "outputs": [],
   "source": [
    "# Example dataset representing population density in Berlin neighborhoods\n",
    "data = {\n",
    "    'neighborhood': ['Mitte', 'Prenzlauer Berg', 'Kreuzberg', 'Charlottenburg', 'Friedrichshain'],\n",
    "    'latitude': [52.5200, 52.5344, 52.4982, 52.5166, 52.5159],\n",
    "    'longitude': [13.4050, 13.4206, 13.3887, 13.3041, 13.4540],\n",
    "    'population_density': [12000, 9000, 15000, 8000, 11000]\n",
    "}\n",
    "\n",
    "# Create a DataFrame from the data\n",
    "population_df = pd.DataFrame(data)"
   ]
  },
  {
   "cell_type": "code",
   "execution_count": 19,
   "id": "994dd823-7f8e-47cf-adfa-1b4537517cd1",
   "metadata": {},
   "outputs": [
    {
     "ename": "FileNotFoundError",
     "evalue": "[Errno 2] No such file or directory: 'berlin_neighborhoods.geojson'",
     "output_type": "error",
     "traceback": [
      "\u001b[1;31m---------------------------------------------------------------------------\u001b[0m",
      "\u001b[1;31mFileNotFoundError\u001b[0m                         Traceback (most recent call last)",
      "Cell \u001b[1;32mIn[19], line 2\u001b[0m\n\u001b[0;32m      1\u001b[0m \u001b[38;5;66;03m# Load GeoJSON data\u001b[39;00m\n\u001b[1;32m----> 2\u001b[0m \u001b[38;5;28;01mwith\u001b[39;00m \u001b[38;5;28;43mopen\u001b[39;49m\u001b[43m(\u001b[49m\u001b[38;5;124;43m'\u001b[39;49m\u001b[38;5;124;43mberlin_neighborhoods.geojson\u001b[39;49m\u001b[38;5;124;43m'\u001b[39;49m\u001b[43m,\u001b[49m\u001b[43m \u001b[49m\u001b[38;5;124;43m'\u001b[39;49m\u001b[38;5;124;43mr\u001b[39;49m\u001b[38;5;124;43m'\u001b[39;49m\u001b[43m)\u001b[49m \u001b[38;5;28;01mas\u001b[39;00m f:\n\u001b[0;32m      3\u001b[0m     geojson_data \u001b[38;5;241m=\u001b[39m f\u001b[38;5;241m.\u001b[39mread()\n",
      "File \u001b[1;32mC:\\Programmes\\Lib\\site-packages\\IPython\\core\\interactiveshell.py:310\u001b[0m, in \u001b[0;36m_modified_open\u001b[1;34m(file, *args, **kwargs)\u001b[0m\n\u001b[0;32m    303\u001b[0m \u001b[38;5;28;01mif\u001b[39;00m file \u001b[38;5;129;01min\u001b[39;00m {\u001b[38;5;241m0\u001b[39m, \u001b[38;5;241m1\u001b[39m, \u001b[38;5;241m2\u001b[39m}:\n\u001b[0;32m    304\u001b[0m     \u001b[38;5;28;01mraise\u001b[39;00m \u001b[38;5;167;01mValueError\u001b[39;00m(\n\u001b[0;32m    305\u001b[0m         \u001b[38;5;124mf\u001b[39m\u001b[38;5;124m\"\u001b[39m\u001b[38;5;124mIPython won\u001b[39m\u001b[38;5;124m'\u001b[39m\u001b[38;5;124mt let you open fd=\u001b[39m\u001b[38;5;132;01m{\u001b[39;00mfile\u001b[38;5;132;01m}\u001b[39;00m\u001b[38;5;124m by default \u001b[39m\u001b[38;5;124m\"\u001b[39m\n\u001b[0;32m    306\u001b[0m         \u001b[38;5;124m\"\u001b[39m\u001b[38;5;124mas it is likely to crash IPython. If you know what you are doing, \u001b[39m\u001b[38;5;124m\"\u001b[39m\n\u001b[0;32m    307\u001b[0m         \u001b[38;5;124m\"\u001b[39m\u001b[38;5;124myou can use builtins\u001b[39m\u001b[38;5;124m'\u001b[39m\u001b[38;5;124m open.\u001b[39m\u001b[38;5;124m\"\u001b[39m\n\u001b[0;32m    308\u001b[0m     )\n\u001b[1;32m--> 310\u001b[0m \u001b[38;5;28;01mreturn\u001b[39;00m \u001b[43mio_open\u001b[49m\u001b[43m(\u001b[49m\u001b[43mfile\u001b[49m\u001b[43m,\u001b[49m\u001b[43m \u001b[49m\u001b[38;5;241;43m*\u001b[39;49m\u001b[43margs\u001b[49m\u001b[43m,\u001b[49m\u001b[43m \u001b[49m\u001b[38;5;241;43m*\u001b[39;49m\u001b[38;5;241;43m*\u001b[39;49m\u001b[43mkwargs\u001b[49m\u001b[43m)\u001b[49m\n",
      "\u001b[1;31mFileNotFoundError\u001b[0m: [Errno 2] No such file or directory: 'berlin_neighborhoods.geojson'"
     ]
    }
   ],
   "source": [
    "# Load GeoJSON data\n",
    "with open('./berlin_neighborhoods.geojson', 'r') as f:\n",
    "    geojson_data = f.read()"
   ]
  },
  {
   "cell_type": "code",
   "execution_count": 12,
   "id": "3affd9a9-1cf2-44ff-8b88-2f1b7f01e16a",
   "metadata": {},
   "outputs": [
    {
     "name": "stdout",
     "output_type": "stream",
     "text": [
      "User Guide: https://docs.kepler.gl/docs/keplergl-jupyter\n"
     ]
    }
   ],
   "source": [
    "# Create a Kepler.gl map\n",
    "map_1 = KeplerGl()\n",
    "\n",
    "# Add data to the map\n",
    "map_1.add_data(data=population_df, name='population_density')\n",
    "\n",
    "# You can replace 'my_data' with a meaningful name for your dataset"
   ]
  },
  {
   "cell_type": "code",
   "execution_count": 15,
   "id": "5c1686c4-d717-4e09-a7be-5809ee0f1765",
   "metadata": {},
   "outputs": [],
   "source": [
    "# Configure the map layers\n",
    "map_1.config = {\n",
    "    'version': 'v1',\n",
    "    'config': {\n",
    "        'mapState': {\n",
    "            'latitude': 52.5200,\n",
    "            'longitude': 13.4050,\n",
    "            'zoom': 11\n",
    "        }\n",
    "    }\n",
    "}"
   ]
  },
  {
   "cell_type": "code",
   "execution_count": 17,
   "id": "b3312c6e-4030-45ee-8a9d-da4c159a60ba",
   "metadata": {},
   "outputs": [
    {
     "data": {
      "application/vnd.jupyter.widget-view+json": {
       "model_id": "42d089286e974e17b73154bddd5b7281",
       "version_major": 2,
       "version_minor": 0
      },
      "text/plain": [
       "KeplerGl(config={'version': 'v1', 'config': {'mapState': {'latitude': 52.52, 'longitude': 13.405, 'zoom': 11}}…"
      ]
     },
     "metadata": {},
     "output_type": "display_data"
    }
   ],
   "source": [
    "# Show the map\n",
    "display(map_1)"
   ]
  },
  {
   "cell_type": "code",
   "execution_count": 18,
   "id": "e42c638b-747a-4879-b9e4-e785d213e851",
   "metadata": {},
   "outputs": [
    {
     "name": "stdout",
     "output_type": "stream",
     "text": [
      "Map saved to keplergl_map.html!\n"
     ]
    }
   ],
   "source": [
    "map_1.save_to_html(file_name='keplergl_map.html', config=dict(mapState=map_1.config['config']['mapState']))"
   ]
  },
  {
   "cell_type": "code",
   "execution_count": null,
   "id": "8f5cbee9-4aaa-43ea-ae63-b6bd30caf335",
   "metadata": {},
   "outputs": [],
   "source": []
  }
 ],
 "metadata": {
  "kernelspec": {
   "display_name": "Python 3 (ipykernel)",
   "language": "python",
   "name": "python3"
  },
  "language_info": {
   "codemirror_mode": {
    "name": "ipython",
    "version": 3
   },
   "file_extension": ".py",
   "mimetype": "text/x-python",
   "name": "python",
   "nbconvert_exporter": "python",
   "pygments_lexer": "ipython3",
   "version": "3.11.5"
  }
 },
 "nbformat": 4,
 "nbformat_minor": 5
}
